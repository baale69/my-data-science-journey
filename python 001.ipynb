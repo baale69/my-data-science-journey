{
 "cells": [
  {
   "cell_type": "code",
   "execution_count": 12,
   "id": "604486ab",
   "metadata": {},
   "outputs": [
    {
     "name": "stdout",
     "output_type": "stream",
     "text": [
      "please input your name here: subuloye isaac\n",
      "dear subuloye isaac \n",
      "Your first name is: isaac\n",
      "And your last name is: subuloye\n"
     ]
    }
   ],
   "source": [
    "#program to print the first name and last name of an individual seperately.\n",
    "name = input('please input your name here: ')\n",
    "no_of_names = len(name.split())\n",
    "if no_of_names < 2:\n",
    "    print(f'dear {name}, you have to input two or more names.')\n",
    "else:\n",
    "    print(f'dear {name} \\nYour first name is: '+name.split()[1]+'\\nAnd your last name is: '+name.split()[0])"
   ]
  },
  {
   "cell_type": "code",
   "execution_count": 25,
   "id": "72b9428e",
   "metadata": {},
   "outputs": [
    {
     "name": "stdout",
     "output_type": "stream",
     "text": [
      "the number of list menber in list_a is:5\n"
     ]
    }
   ],
   "source": [
    "#counting the number of items in a list\n",
    "list_a = ['axe', 'tree', 'cattle', 'dog', 'monkey']\n",
    "def count_list_items(lst):\n",
    "    count = 0\n",
    "    for items in lst:\n",
    "        count+=1\n",
    "    return count\n",
    "print('the number of list menber in list_a is:'+ str(count_list_items(list_a)))"
   ]
  },
  {
   "cell_type": "code",
   "execution_count": 27,
   "id": "00582dbe",
   "metadata": {},
   "outputs": [
    {
     "name": "stdout",
     "output_type": "stream",
     "text": [
      "please enter your name: isaac\n",
      "we are in year 2022. \n",
      "Please input your age now: 25\n",
      "you want to know what your age will be by what year?: 2050\n",
      "dear isaac, your age by 2050 will be 53\n"
     ]
    }
   ],
   "source": [
    "#program to calculate the age of an individual in the nearest future\n",
    "name = input('please enter your name: ')\n",
    "age = input('we are in year 2022. \\nPlease input your age now: ')\n",
    "year = input('you want to know what your age will be by what year?: ')\n",
    "new_age = int(year)-2022+int(age)\n",
    "print(f'dear {name}, your age by {year} will be '+str(new_age))"
   ]
  },
  {
   "cell_type": "markdown",
   "id": "11b33b05",
   "metadata": {},
   "source": [
    "WORKING WITH LOOPS"
   ]
  },
  {
   "cell_type": "code",
   "execution_count": 31,
   "id": "976977a6",
   "metadata": {},
   "outputs": [
    {
     "name": "stdout",
     "output_type": "stream",
     "text": [
      "please enter your name. \n",
      "your name\n",
      "thank you your name.\n"
     ]
    }
   ],
   "source": [
    "name = ''\n",
    "while name != 'your name':\n",
    "    print('please enter your name. ')\n",
    "    name = input()\n",
    "print('thank you '+name+'.')"
   ]
  },
  {
   "cell_type": "code",
   "execution_count": 34,
   "id": "5d30ede4",
   "metadata": {},
   "outputs": [
    {
     "name": "stdout",
     "output_type": "stream",
     "text": [
      "please enter your name. isaac\n",
      "thank you\n"
     ]
    }
   ],
   "source": [
    "while True:\n",
    "    name = input('please enter your name. ')\n",
    "    if name == 'isaac':\n",
    "        break\n",
    "print('thank you')"
   ]
  },
  {
   "cell_type": "code",
   "execution_count": 36,
   "id": "2c8c784c",
   "metadata": {},
   "outputs": [
    {
     "name": "stdout",
     "output_type": "stream",
     "text": [
      "please enter your name. isaac\n",
      "please enter your name. joe\n",
      "is the password battle-axe?.\n",
      "Enter yes or no. no\n",
      "Access Granted!\n"
     ]
    }
   ],
   "source": [
    "while True:\n",
    "    name = input('please enter your name. ')\n",
    "    if name != 'joe':\n",
    "        continue\n",
    "    password = input('is the password battle-axe?.\\nEnter yes or no. ')\n",
    "    if password == 'no':\n",
    "        break\n",
    "print('Access Granted!')"
   ]
  },
  {
   "cell_type": "code",
   "execution_count": 66,
   "id": "a2bd3c61",
   "metadata": {},
   "outputs": [
    {
     "name": "stdout",
     "output_type": "stream",
     "text": [
      " Who are you? \n",
      "bayo\n",
      "bayo Who are you? \n",
      "joe\n",
      "Mr Joe, please provide the password\n",
      "fidh\n",
      "Mr Joe, please provide the password\n",
      "fish\n",
      "access granted\n"
     ]
    }
   ],
   "source": [
    "name = \"\"\n",
    "while name != 'joe':\n",
    "    print(f'{name} Who are you? ')\n",
    "    name = input()\n",
    "    if name == 'joe':\n",
    "        password = ''\n",
    "        while password != 'fish':\n",
    "            print('Mr Joe, please provide the password')\n",
    "            password = input()\n",
    "            if password == 'fish':\n",
    "                print('access granted')\n",
    "            \n",
    "    \n",
    "    "
   ]
  },
  {
   "cell_type": "code",
   "execution_count": 77,
   "id": "0693e751",
   "metadata": {},
   "outputs": [
    {
     "name": "stdout",
     "output_type": "stream",
     "text": [
      " 0 : 0\n",
      " 1 : 1\n",
      " 2 : 3\n",
      " 3 : 6\n",
      " 4 : 10\n",
      " 5 : 15\n",
      " 6 : 21\n",
      " 7 : 28\n",
      " 8 : 36\n",
      " 9 : 45\n",
      "10 : 55\n",
      "11 : 66\n",
      "12 : 78\n",
      "13 : 91\n",
      "14 : 105\n",
      "15 : 120\n",
      "16 : 136\n",
      "17 : 153\n",
      "18 : 171\n",
      "19 : 190\n",
      "20 : 210\n",
      "21 : 231\n",
      "22 : 253\n",
      "23 : 276\n",
      "24 : 300\n",
      "25 : 325\n",
      "26 : 351\n",
      "27 : 378\n",
      "28 : 406\n",
      "29 : 435\n",
      "30 : 465\n",
      "31 : 496\n",
      "32 : 528\n",
      "33 : 561\n",
      "34 : 595\n",
      "35 : 630\n",
      "36 : 666\n",
      "37 : 703\n",
      "38 : 741\n",
      "39 : 780\n",
      "40 : 820\n",
      "41 : 861\n",
      "42 : 903\n",
      "43 : 946\n",
      "44 : 990\n",
      "45 : 1035\n",
      "46 : 1081\n",
      "47 : 1128\n",
      "48 : 1176\n",
      "49 : 1225\n",
      "50 : 1275\n",
      "51 : 1326\n",
      "52 : 1378\n",
      "53 : 1431\n",
      "54 : 1485\n",
      "55 : 1540\n",
      "56 : 1596\n",
      "57 : 1653\n",
      "58 : 1711\n",
      "59 : 1770\n",
      "60 : 1830\n",
      "61 : 1891\n",
      "62 : 1953\n",
      "63 : 2016\n",
      "64 : 2080\n",
      "65 : 2145\n",
      "66 : 2211\n",
      "67 : 2278\n",
      "68 : 2346\n",
      "69 : 2415\n",
      "70 : 2485\n",
      "71 : 2556\n",
      "72 : 2628\n",
      "73 : 2701\n",
      "74 : 2775\n",
      "75 : 2850\n",
      "76 : 2926\n",
      "77 : 3003\n",
      "78 : 3081\n",
      "79 : 3160\n",
      "80 : 3240\n",
      "81 : 3321\n",
      "82 : 3403\n",
      "83 : 3486\n",
      "84 : 3570\n",
      "85 : 3655\n",
      "86 : 3741\n",
      "87 : 3828\n",
      "88 : 3916\n",
      "89 : 4005\n",
      "90 : 4095\n",
      "91 : 4186\n",
      "92 : 4278\n",
      "93 : 4371\n",
      "94 : 4465\n",
      "95 : 4560\n",
      "96 : 4656\n",
      "97 : 4753\n",
      "98 : 4851\n",
      "99 : 4950\n",
      "100 : 5050\n"
     ]
    }
   ],
   "source": [
    "total = 0\n",
    "for i in range(101):\n",
    "    total +=i\n",
    "    if i<10:\n",
    "        print(' '+str(i)+' : '+str(total))\n",
    "    else:\n",
    "        print(str(i)+' : '+str(total))"
   ]
  },
  {
   "cell_type": "code",
   "execution_count": 78,
   "id": "3d3abbe5",
   "metadata": {},
   "outputs": [],
   "source": [
    "import sys"
   ]
  },
  {
   "cell_type": "code",
   "execution_count": 91,
   "id": "d34aa262",
   "metadata": {},
   "outputs": [
    {
     "name": "stdout",
     "output_type": "stream",
     "text": [
      "type exit to stop\n",
      "exit\n",
      "you have entered exit.\n"
     ]
    }
   ],
   "source": [
    "response = ''\n",
    "while response != 'exit':\n",
    "    print('type exit to stop')\n",
    "    response = input()\n",
    "    if response == exit:\n",
    "        sys.exit()\n",
    "    print(f'you have entered {response}.')"
   ]
  },
  {
   "cell_type": "code",
   "execution_count": 92,
   "id": "db353cd6",
   "metadata": {},
   "outputs": [
    {
     "data": {
      "text/plain": [
       "range(0, 10)"
      ]
     },
     "execution_count": 92,
     "metadata": {},
     "output_type": "execute_result"
    }
   ],
   "source": [
    "range(10)"
   ]
  },
  {
   "cell_type": "code",
   "execution_count": 93,
   "id": "6331baa5",
   "metadata": {},
   "outputs": [
    {
     "data": {
      "text/plain": [
       "range(0, 10)"
      ]
     },
     "execution_count": 93,
     "metadata": {},
     "output_type": "execute_result"
    }
   ],
   "source": [
    "range(0,10)"
   ]
  },
  {
   "cell_type": "code",
   "execution_count": 94,
   "id": "4b966dc5",
   "metadata": {},
   "outputs": [
    {
     "data": {
      "text/plain": [
       "range(0, 10)"
      ]
     },
     "execution_count": 94,
     "metadata": {},
     "output_type": "execute_result"
    }
   ],
   "source": [
    "range(0,10,1)"
   ]
  },
  {
   "cell_type": "code",
   "execution_count": 97,
   "id": "933a8cc4",
   "metadata": {},
   "outputs": [
    {
     "name": "stdout",
     "output_type": "stream",
     "text": [
      "1\n",
      "2\n",
      "3\n",
      "4\n",
      "5\n",
      "6\n",
      "7\n",
      "8\n",
      "9\n",
      "10\n"
     ]
    }
   ],
   "source": [
    "for x in range(1,11):\n",
    "    print(x)"
   ]
  },
  {
   "cell_type": "code",
   "execution_count": 99,
   "id": "30b4b401",
   "metadata": {},
   "outputs": [
    {
     "name": "stdout",
     "output_type": "stream",
     "text": [
      "1\n",
      "2\n",
      "3\n",
      "4\n",
      "5\n",
      "6\n",
      "7\n",
      "8\n",
      "9\n",
      "10\n"
     ]
    }
   ],
   "source": [
    "x=1\n",
    "while x<11:\n",
    "    print(x)\n",
    "    x +=1\n"
   ]
  },
  {
   "cell_type": "code",
   "execution_count": 100,
   "id": "bb5d911a",
   "metadata": {},
   "outputs": [
    {
     "name": "stdout",
     "output_type": "stream",
     "text": [
      "hello\n"
     ]
    }
   ],
   "source": [
    "spam = print('hello')"
   ]
  },
  {
   "cell_type": "code",
   "execution_count": 101,
   "id": "0783e288",
   "metadata": {},
   "outputs": [
    {
     "data": {
      "text/plain": [
       "True"
      ]
     },
     "execution_count": 101,
     "metadata": {},
     "output_type": "execute_result"
    }
   ],
   "source": [
    "None == spam"
   ]
  },
  {
   "cell_type": "code",
   "execution_count": 105,
   "id": "4c44fc44",
   "metadata": {},
   "outputs": [
    {
     "name": "stdout",
     "output_type": "stream",
     "text": [
      "Hello---World\n"
     ]
    }
   ],
   "source": [
    "print('Hello', end='---')\n",
    "print('World')"
   ]
  },
  {
   "cell_type": "code",
   "execution_count": 106,
   "id": "9197b78d",
   "metadata": {},
   "outputs": [
    {
     "name": "stdout",
     "output_type": "stream",
     "text": [
      "cats,.,dogs,.,mice\n"
     ]
    }
   ],
   "source": [
    "print('cats', 'dogs', 'mice',sep=',.,')"
   ]
  },
  {
   "cell_type": "code",
   "execution_count": 117,
   "id": "64040d84",
   "metadata": {},
   "outputs": [
    {
     "name": "stdout",
     "output_type": "stream",
     "text": [
      "87\n"
     ]
    }
   ],
   "source": [
    "eggs = 87\n",
    "def spam():\n",
    "    eggs=2\n",
    "    print(eggs)\n",
    "def bacon():\n",
    "    eggs=34\n",
    "    print(eggs)\n",
    "print(eggs)"
   ]
  },
  {
   "cell_type": "code",
   "execution_count": 118,
   "id": "82705113",
   "metadata": {},
   "outputs": [
    {
     "name": "stdout",
     "output_type": "stream",
     "text": [
      "2\n"
     ]
    }
   ],
   "source": [
    "spam()"
   ]
  },
  {
   "cell_type": "code",
   "execution_count": 119,
   "id": "2a383e58",
   "metadata": {},
   "outputs": [
    {
     "name": "stdout",
     "output_type": "stream",
     "text": [
      "34\n"
     ]
    }
   ],
   "source": [
    "bacon()"
   ]
  },
  {
   "cell_type": "code",
   "execution_count": 122,
   "id": "14f8591b",
   "metadata": {},
   "outputs": [
    {
     "name": "stdout",
     "output_type": "stream",
     "text": [
      "spam\n"
     ]
    }
   ],
   "source": [
    "def spam():\n",
    "    global egg\n",
    "    egg = 'spam'\n",
    "def bacon():\n",
    "    egg = 'bacon'\n",
    "def ham():\n",
    "    print(egg)\n",
    "\n",
    "egg = 42\n",
    "spam()\n",
    "print(egg)\n"
   ]
  },
  {
   "cell_type": "code",
   "execution_count": 126,
   "id": "aa796f4c",
   "metadata": {},
   "outputs": [
    {
     "name": "stdout",
     "output_type": "stream",
     "text": [
      "14.0\n",
      "10.5\n"
     ]
    },
    {
     "ename": "ZeroDivisionError",
     "evalue": "division by zero",
     "output_type": "error",
     "traceback": [
      "\u001b[1;31m---------------------------------------------------------------------------\u001b[0m",
      "\u001b[1;31mZeroDivisionError\u001b[0m                         Traceback (most recent call last)",
      "\u001b[1;32m~\\AppData\\Local\\Temp/ipykernel_4912/2828226121.py\u001b[0m in \u001b[0;36m<module>\u001b[1;34m\u001b[0m\n\u001b[0;32m      4\u001b[0m \u001b[0mprint\u001b[0m\u001b[1;33m(\u001b[0m\u001b[0mspam\u001b[0m\u001b[1;33m(\u001b[0m\u001b[1;36m3\u001b[0m\u001b[1;33m)\u001b[0m\u001b[1;33m)\u001b[0m\u001b[1;33m\u001b[0m\u001b[1;33m\u001b[0m\u001b[0m\n\u001b[0;32m      5\u001b[0m \u001b[0mprint\u001b[0m\u001b[1;33m(\u001b[0m\u001b[0mspam\u001b[0m\u001b[1;33m(\u001b[0m\u001b[1;36m4\u001b[0m\u001b[1;33m)\u001b[0m\u001b[1;33m)\u001b[0m\u001b[1;33m\u001b[0m\u001b[1;33m\u001b[0m\u001b[0m\n\u001b[1;32m----> 6\u001b[1;33m \u001b[0mprint\u001b[0m\u001b[1;33m(\u001b[0m\u001b[0mspam\u001b[0m\u001b[1;33m(\u001b[0m\u001b[1;36m0\u001b[0m\u001b[1;33m)\u001b[0m\u001b[1;33m)\u001b[0m\u001b[1;33m\u001b[0m\u001b[1;33m\u001b[0m\u001b[0m\n\u001b[0m\u001b[0;32m      7\u001b[0m \u001b[0mprint\u001b[0m\u001b[1;33m(\u001b[0m\u001b[0mspam\u001b[0m\u001b[1;33m(\u001b[0m\u001b[1;36m5\u001b[0m\u001b[1;33m)\u001b[0m\u001b[1;33m)\u001b[0m\u001b[1;33m\u001b[0m\u001b[1;33m\u001b[0m\u001b[0m\n",
      "\u001b[1;32m~\\AppData\\Local\\Temp/ipykernel_4912/2828226121.py\u001b[0m in \u001b[0;36mspam\u001b[1;34m(divideby)\u001b[0m\n\u001b[0;32m      1\u001b[0m \u001b[1;32mdef\u001b[0m \u001b[0mspam\u001b[0m\u001b[1;33m(\u001b[0m\u001b[0mdivideby\u001b[0m\u001b[1;33m)\u001b[0m\u001b[1;33m:\u001b[0m\u001b[1;33m\u001b[0m\u001b[1;33m\u001b[0m\u001b[0m\n\u001b[1;32m----> 2\u001b[1;33m     \u001b[1;32mreturn\u001b[0m \u001b[1;36m42\u001b[0m\u001b[1;33m/\u001b[0m\u001b[0mdivideby\u001b[0m\u001b[1;33m\u001b[0m\u001b[1;33m\u001b[0m\u001b[0m\n\u001b[0m\u001b[0;32m      3\u001b[0m \u001b[1;33m\u001b[0m\u001b[0m\n\u001b[0;32m      4\u001b[0m \u001b[0mprint\u001b[0m\u001b[1;33m(\u001b[0m\u001b[0mspam\u001b[0m\u001b[1;33m(\u001b[0m\u001b[1;36m3\u001b[0m\u001b[1;33m)\u001b[0m\u001b[1;33m)\u001b[0m\u001b[1;33m\u001b[0m\u001b[1;33m\u001b[0m\u001b[0m\n\u001b[0;32m      5\u001b[0m \u001b[0mprint\u001b[0m\u001b[1;33m(\u001b[0m\u001b[0mspam\u001b[0m\u001b[1;33m(\u001b[0m\u001b[1;36m4\u001b[0m\u001b[1;33m)\u001b[0m\u001b[1;33m)\u001b[0m\u001b[1;33m\u001b[0m\u001b[1;33m\u001b[0m\u001b[0m\n",
      "\u001b[1;31mZeroDivisionError\u001b[0m: division by zero"
     ]
    }
   ],
   "source": [
    "def spam(divideby):\n",
    "    return 42/divideby\n",
    "\n",
    "print(spam(3))\n",
    "print(spam(4))\n",
    "print(spam(0))\n",
    "print(spam(5))"
   ]
  },
  {
   "cell_type": "code",
   "execution_count": 127,
   "id": "9bed3d00",
   "metadata": {},
   "outputs": [
    {
     "name": "stdout",
     "output_type": "stream",
     "text": [
      "14.0\n",
      "10.5\n",
      "Number cannot be divided by 0\n",
      "None\n",
      "8.4\n"
     ]
    }
   ],
   "source": [
    "def spam(divideby):\n",
    "    try:\n",
    "        return 42/divideby\n",
    "    except ZeroDivisionError:\n",
    "        print('Number cannot be divided by 0')\n",
    "\n",
    "print(spam(3))\n",
    "print(spam(4))\n",
    "print(spam(0))\n",
    "print(spam(5))"
   ]
  },
  {
   "cell_type": "code",
   "execution_count": 128,
   "id": "422aa968",
   "metadata": {},
   "outputs": [
    {
     "name": "stdout",
     "output_type": "stream",
     "text": [
      "14.0\n",
      "10.5\n",
      "Number cannot be divided by 0\n"
     ]
    }
   ],
   "source": [
    "def spam(divideby):\n",
    "    return 42/divideby\n",
    "\n",
    "try:\n",
    "    print(spam(3))\n",
    "    print(spam(4))\n",
    "    print(spam(0))\n",
    "    print(spam(5))\n",
    "except ZeroDivisionError:\n",
    "        print('Number cannot be divided by 0')"
   ]
  },
  {
   "cell_type": "code",
   "execution_count": 130,
   "id": "1e9d5883",
   "metadata": {},
   "outputs": [],
   "source": [
    "def collatz(number):\n",
    "    if number%2 == 0:\n",
    "        print(number//2)\n",
    "    elif number%2 == 1:\n",
    "        print(3*number+1)"
   ]
  },
  {
   "cell_type": "code",
   "execution_count": 147,
   "id": "57f05548",
   "metadata": {},
   "outputs": [
    {
     "name": "stdout",
     "output_type": "stream",
     "text": [
      "3\n",
      "10\n"
     ]
    },
    {
     "ename": "TypeError",
     "evalue": "int() argument must be a string, a bytes-like object or a number, not 'NoneType'",
     "output_type": "error",
     "traceback": [
      "\u001b[1;31m---------------------------------------------------------------------------\u001b[0m",
      "\u001b[1;31mTypeError\u001b[0m                                 Traceback (most recent call last)",
      "\u001b[1;32m~\\AppData\\Local\\Temp/ipykernel_4912/1204314819.py\u001b[0m in \u001b[0;36m<module>\u001b[1;34m\u001b[0m\n\u001b[0;32m      3\u001b[0m \u001b[1;32mwhile\u001b[0m \u001b[0manswer\u001b[0m \u001b[1;33m!=\u001b[0m \u001b[1;36m1\u001b[0m\u001b[1;33m:\u001b[0m\u001b[1;33m\u001b[0m\u001b[1;33m\u001b[0m\u001b[0m\n\u001b[0;32m      4\u001b[0m     \u001b[0manswer\u001b[0m \u001b[1;33m=\u001b[0m \u001b[0mcollatz\u001b[0m\u001b[1;33m(\u001b[0m\u001b[0mnum\u001b[0m\u001b[1;33m)\u001b[0m\u001b[1;33m\u001b[0m\u001b[1;33m\u001b[0m\u001b[0m\n\u001b[1;32m----> 5\u001b[1;33m     \u001b[0manswer\u001b[0m \u001b[1;33m=\u001b[0m \u001b[0mcollatz\u001b[0m\u001b[1;33m(\u001b[0m\u001b[0mint\u001b[0m\u001b[1;33m(\u001b[0m\u001b[0manswer\u001b[0m\u001b[1;33m)\u001b[0m\u001b[1;33m)\u001b[0m\u001b[1;33m\u001b[0m\u001b[1;33m\u001b[0m\u001b[0m\n\u001b[0m\u001b[0;32m      6\u001b[0m     \u001b[1;32mif\u001b[0m \u001b[0manswer\u001b[0m \u001b[1;33m==\u001b[0m\u001b[1;36m1\u001b[0m\u001b[1;33m:\u001b[0m\u001b[1;33m\u001b[0m\u001b[1;33m\u001b[0m\u001b[0m\n\u001b[0;32m      7\u001b[0m         \u001b[1;32mbreak\u001b[0m\u001b[1;33m\u001b[0m\u001b[1;33m\u001b[0m\u001b[0m\n",
      "\u001b[1;31mTypeError\u001b[0m: int() argument must be a string, a bytes-like object or a number, not 'NoneType'"
     ]
    }
   ],
   "source": [
    "answer = ''\n",
    "num = int(input())\n",
    "while answer != 1:\n",
    "    answer = collatz(num)\n",
    "    answer = collatz(int(answer))\n",
    "    if answer ==1:\n",
    "        break"
   ]
  },
  {
   "cell_type": "code",
   "execution_count": 155,
   "id": "87bb7284",
   "metadata": {},
   "outputs": [],
   "source": [
    "def collatz(num):\n",
    "    while num > 1:\n",
    "        if num % 2 == 0:\n",
    "            print(num//2)\n",
    "            num = num //2\n",
    "        elif num % 2 ==1:\n",
    "            print(3*num+1)\n",
    "            num = 3*num+1\n",
    "        else:\n",
    "            print(num)\n"
   ]
  },
  {
   "cell_type": "code",
   "execution_count": 160,
   "id": "66c14211",
   "metadata": {},
   "outputs": [],
   "source": [
    "def collatz(num):\n",
    "    while num > 1:\n",
    "        if num % 2 == 0:\n",
    "            num = num // 2\n",
    "        else:\n",
    "            num = 3 * num + 1\n",
    "\n",
    "        print(num)"
   ]
  },
  {
   "cell_type": "code",
   "execution_count": 161,
   "id": "cc27a699",
   "metadata": {},
   "outputs": [
    {
     "name": "stdout",
     "output_type": "stream",
     "text": [
      "16\n",
      "8\n",
      "4\n",
      "2\n",
      "1\n"
     ]
    }
   ],
   "source": [
    "collatz(5)"
   ]
  },
  {
   "cell_type": "code",
   "execution_count": 173,
   "id": "cba726fc",
   "metadata": {},
   "outputs": [],
   "source": [
    "def getNum():\n",
    "    global num\n",
    "    num = (input(\"> \"))\n",
    "    try:\n",
    "        num = int(num)\n",
    "    except ValueError:\n",
    "        print('plese enter a number')\n",
    "        getNum()\n",
    "def collatz(num):\n",
    "    while num > 1:\n",
    "        if num % 2 == 0:\n",
    "            num = num // 2\n",
    "        else:\n",
    "            num = 3 * num + 1\n",
    "\n",
    "        print(num)\n"
   ]
  },
  {
   "cell_type": "code",
   "execution_count": 174,
   "id": "f7133212",
   "metadata": {},
   "outputs": [
    {
     "name": "stdout",
     "output_type": "stream",
     "text": [
      "> 8\n",
      "4\n",
      "2\n",
      "1\n"
     ]
    }
   ],
   "source": [
    "getNum()\n",
    "collatz(num)"
   ]
  },
  {
   "cell_type": "code",
   "execution_count": 185,
   "id": "949404c0",
   "metadata": {},
   "outputs": [
    {
     "name": "stdout",
     "output_type": "stream",
     "text": [
      "enter name of cat 1 Or press enter to stop\n",
      "cow\n",
      "enter name of cat 2 Or press enter to stop\n",
      "monkey\n",
      "enter name of cat 3 Or press enter to stop\n",
      "kettle\n",
      "enter name of cat 4 Or press enter to stop\n",
      "uyue\n",
      "enter name of cat 5 Or press enter to stop\n",
      "ueefr\n",
      "enter name of cat 6 Or press enter to stop\n",
      "\n",
      "catnames are:\n",
      "  cow\n",
      "  monkey\n",
      "  kettle\n",
      "  uyue\n",
      "  ueefr\n"
     ]
    }
   ],
   "source": [
    "catnames = []\n",
    "while True:\n",
    "    print('enter name of cat '+ str(len(catnames)+1)+' Or press enter to stop')\n",
    "    name = input()\n",
    "    if name == '':\n",
    "        break\n",
    "    catnames = catnames + [name]\n",
    "print('catnames are:')\n",
    "for names in catnames:\n",
    "    print('  '+names)"
   ]
  },
  {
   "cell_type": "code",
   "execution_count": 179,
   "id": "443105c4",
   "metadata": {},
   "outputs": [
    {
     "data": {
      "text/plain": [
       "7"
      ]
     },
     "execution_count": 179,
     "metadata": {},
     "output_type": "execute_result"
    }
   ],
   "source": [
    "cat = [55,44,77,44,3,8]\n",
    "len(cat)+1"
   ]
  },
  {
   "cell_type": "code",
   "execution_count": 186,
   "id": "98313d8f",
   "metadata": {},
   "outputs": [],
   "source": [
    "grid = [['.', '.', '.', '.', '.', '.'],\n",
    "['.', 'O', 'O', '.', '.', '.'],\n",
    "['O', 'O', 'O', 'O', '.', '.'],\n",
    "['O', 'O', 'O', 'O', 'O', '.'],\n",
    "['.', 'O', 'O', 'O', 'O', 'O'],\n",
    "['O', 'O', 'O', 'O', 'O', '.'],\n",
    "['O', 'O', 'O', 'O', '.', '.'],\n",
    "['.', 'O', 'O', '.', '.', '.'],\n",
    "['.', '.', '.', '.', '.', '.']]"
   ]
  },
  {
   "cell_type": "code",
   "execution_count": 195,
   "id": "8e81f069",
   "metadata": {},
   "outputs": [],
   "source": [
    "def print_list(lst):\n",
    "    for i in lst:\n",
    "        print(lst[0][0]+lst[1][0]+lst[2][0]+lst[3][0]+lst[4][0]+lst[5][0]+lst[6][0]+lst[7][0]+lst[8][0],end='')"
   ]
  },
  {
   "cell_type": "code",
   "execution_count": 196,
   "id": "c31bc86a",
   "metadata": {},
   "outputs": [
    {
     "name": "stdout",
     "output_type": "stream",
     "text": [
      "..OO.OO....OO.OO....OO.OO....OO.OO....OO.OO....OO.OO....OO.OO....OO.OO....OO.OO.."
     ]
    }
   ],
   "source": [
    "print_list(grid)"
   ]
  },
  {
   "cell_type": "code",
   "execution_count": 197,
   "id": "16492b4c",
   "metadata": {},
   "outputs": [],
   "source": [
    "birthdays = {'Alice': 'Apr 1', 'Bob': 'Dec 12', 'Carol': 'Mar 4'}"
   ]
  },
  {
   "cell_type": "code",
   "execution_count": 198,
   "id": "b76b933c",
   "metadata": {},
   "outputs": [],
   "source": [
    "birthdays['mat'] = 'apr 3'"
   ]
  },
  {
   "cell_type": "code",
   "execution_count": 199,
   "id": "d8de0339",
   "metadata": {},
   "outputs": [
    {
     "data": {
      "text/plain": [
       "{'Alice': 'Apr 1', 'Bob': 'Dec 12', 'Carol': 'Mar 4', 'mat': 'apr 3'}"
      ]
     },
     "execution_count": 199,
     "metadata": {},
     "output_type": "execute_result"
    }
   ],
   "source": [
    "birthdays"
   ]
  },
  {
   "cell_type": "code",
   "execution_count": 202,
   "id": "51a37112",
   "metadata": {},
   "outputs": [
    {
     "name": "stdout",
     "output_type": "stream",
     "text": [
      "Enter a name. (blank to quit)\n",
      "alice\n",
      "There is no birthday for alice\n",
      "Enter a birthday for alice now.\n",
      "Alice\n",
      "birthday updated\n",
      "Enter a name. (blank to quit)\n"
     ]
    },
    {
     "ename": "KeyboardInterrupt",
     "evalue": "Interrupted by user",
     "output_type": "error",
     "traceback": [
      "\u001b[1;31m---------------------------------------------------------------------------\u001b[0m",
      "\u001b[1;31mKeyboardInterrupt\u001b[0m                         Traceback (most recent call last)",
      "\u001b[1;32m~\\AppData\\Local\\Temp/ipykernel_4912/3695963787.py\u001b[0m in \u001b[0;36m<module>\u001b[1;34m\u001b[0m\n\u001b[0;32m      1\u001b[0m \u001b[1;32mwhile\u001b[0m \u001b[1;32mTrue\u001b[0m\u001b[1;33m:\u001b[0m\u001b[1;33m\u001b[0m\u001b[1;33m\u001b[0m\u001b[0m\n\u001b[0;32m      2\u001b[0m     \u001b[0mprint\u001b[0m\u001b[1;33m(\u001b[0m\u001b[1;34m'Enter a name. '\u001b[0m\u001b[1;33m+\u001b[0m\u001b[1;34m'('\u001b[0m\u001b[1;33m+\u001b[0m\u001b[1;34m'blank to quit'\u001b[0m\u001b[1;33m+\u001b[0m\u001b[1;34m')'\u001b[0m\u001b[1;33m)\u001b[0m\u001b[1;33m\u001b[0m\u001b[1;33m\u001b[0m\u001b[0m\n\u001b[1;32m----> 3\u001b[1;33m     \u001b[0mname\u001b[0m \u001b[1;33m=\u001b[0m \u001b[0minput\u001b[0m\u001b[1;33m(\u001b[0m\u001b[1;33m)\u001b[0m\u001b[1;33m\u001b[0m\u001b[1;33m\u001b[0m\u001b[0m\n\u001b[0m\u001b[0;32m      4\u001b[0m     \u001b[1;32mif\u001b[0m \u001b[0mname\u001b[0m \u001b[1;33m==\u001b[0m \u001b[1;34m''\u001b[0m\u001b[1;33m:\u001b[0m\u001b[1;33m\u001b[0m\u001b[1;33m\u001b[0m\u001b[0m\n\u001b[0;32m      5\u001b[0m         \u001b[1;32mbreak\u001b[0m\u001b[1;33m\u001b[0m\u001b[1;33m\u001b[0m\u001b[0m\n",
      "\u001b[1;32m~\\anaconda3\\lib\\site-packages\\ipykernel\\kernelbase.py\u001b[0m in \u001b[0;36mraw_input\u001b[1;34m(self, prompt)\u001b[0m\n\u001b[0;32m   1004\u001b[0m                 \u001b[1;34m\"raw_input was called, but this frontend does not support input requests.\"\u001b[0m\u001b[1;33m\u001b[0m\u001b[1;33m\u001b[0m\u001b[0m\n\u001b[0;32m   1005\u001b[0m             )\n\u001b[1;32m-> 1006\u001b[1;33m         return self._input_request(\n\u001b[0m\u001b[0;32m   1007\u001b[0m             \u001b[0mstr\u001b[0m\u001b[1;33m(\u001b[0m\u001b[0mprompt\u001b[0m\u001b[1;33m)\u001b[0m\u001b[1;33m,\u001b[0m\u001b[1;33m\u001b[0m\u001b[1;33m\u001b[0m\u001b[0m\n\u001b[0;32m   1008\u001b[0m             \u001b[0mself\u001b[0m\u001b[1;33m.\u001b[0m\u001b[0m_parent_ident\u001b[0m\u001b[1;33m[\u001b[0m\u001b[1;34m\"shell\"\u001b[0m\u001b[1;33m]\u001b[0m\u001b[1;33m,\u001b[0m\u001b[1;33m\u001b[0m\u001b[1;33m\u001b[0m\u001b[0m\n",
      "\u001b[1;32m~\\anaconda3\\lib\\site-packages\\ipykernel\\kernelbase.py\u001b[0m in \u001b[0;36m_input_request\u001b[1;34m(self, prompt, ident, parent, password)\u001b[0m\n\u001b[0;32m   1049\u001b[0m             \u001b[1;32mexcept\u001b[0m \u001b[0mKeyboardInterrupt\u001b[0m\u001b[1;33m:\u001b[0m\u001b[1;33m\u001b[0m\u001b[1;33m\u001b[0m\u001b[0m\n\u001b[0;32m   1050\u001b[0m                 \u001b[1;31m# re-raise KeyboardInterrupt, to truncate traceback\u001b[0m\u001b[1;33m\u001b[0m\u001b[1;33m\u001b[0m\u001b[0m\n\u001b[1;32m-> 1051\u001b[1;33m                 \u001b[1;32mraise\u001b[0m \u001b[0mKeyboardInterrupt\u001b[0m\u001b[1;33m(\u001b[0m\u001b[1;34m\"Interrupted by user\"\u001b[0m\u001b[1;33m)\u001b[0m \u001b[1;32mfrom\u001b[0m \u001b[1;32mNone\u001b[0m\u001b[1;33m\u001b[0m\u001b[1;33m\u001b[0m\u001b[0m\n\u001b[0m\u001b[0;32m   1052\u001b[0m             \u001b[1;32mexcept\u001b[0m \u001b[0mException\u001b[0m\u001b[1;33m:\u001b[0m\u001b[1;33m\u001b[0m\u001b[1;33m\u001b[0m\u001b[0m\n\u001b[0;32m   1053\u001b[0m                 \u001b[0mself\u001b[0m\u001b[1;33m.\u001b[0m\u001b[0mlog\u001b[0m\u001b[1;33m.\u001b[0m\u001b[0mwarning\u001b[0m\u001b[1;33m(\u001b[0m\u001b[1;34m\"Invalid Message:\"\u001b[0m\u001b[1;33m,\u001b[0m \u001b[0mexc_info\u001b[0m\u001b[1;33m=\u001b[0m\u001b[1;32mTrue\u001b[0m\u001b[1;33m)\u001b[0m\u001b[1;33m\u001b[0m\u001b[1;33m\u001b[0m\u001b[0m\n",
      "\u001b[1;31mKeyboardInterrupt\u001b[0m: Interrupted by user"
     ]
    }
   ],
   "source": [
    "while True:\n",
    "    print('Enter a name. '+'('+'blank to quit'+')')\n",
    "    name = input()\n",
    "    if name == '':\n",
    "        break\n",
    "    if name in birthdays:\n",
    "        print(birthdays[name]+'is the birthday of '+name)\n",
    "    else:\n",
    "        print('There is no birthday for '+name)\n",
    "        print('Enter a birthday for '+name+' now.')\n",
    "        bday=input()\n",
    "        birthdays[name]=bday\n",
    "        print('birthday updated')"
   ]
  },
  {
   "cell_type": "code",
   "execution_count": 203,
   "id": "e5a31231",
   "metadata": {},
   "outputs": [
    {
     "name": "stdout",
     "output_type": "stream",
     "text": [
      "Alice\n",
      "Bob\n",
      "Carol\n",
      "mat\n",
      "uiy\n",
      "alice\n"
     ]
    }
   ],
   "source": [
    "for k in birthdays.keys():\n",
    "    print(k)"
   ]
  },
  {
   "cell_type": "code",
   "execution_count": 208,
   "id": "96a2ee95",
   "metadata": {},
   "outputs": [
    {
     "name": "stdout",
     "output_type": "stream",
     "text": [
      " Key Alice: value Apr 1\n",
      " Key Bob: value Dec 12\n",
      " Key Carol: value Mar 4\n",
      " Key mat: value apr 3\n",
      " Key uiy: value june 4\n",
      " Key alice: value Alice\n"
     ]
    }
   ],
   "source": [
    "for k, v in birthdays.items():\n",
    "    print(' Key '+ k+': '+'value '+ v)"
   ]
  },
  {
   "cell_type": "code",
   "execution_count": 213,
   "id": "4079b21d",
   "metadata": {},
   "outputs": [
    {
     "name": "stdout",
     "output_type": "stream",
     "text": [
      "i will bring 5 apples and 0 eggs to the picnic\n"
     ]
    }
   ],
   "source": [
    "picnicItems = {'apples': 5, 'cups': 2}\n",
    "print('i will bring '+str(picnicItems.get('apples',0))+ ' apples'+' and '+str(picnicItems.get('eggs',0))+ ' eggs to the picnic')"
   ]
  },
  {
   "cell_type": "code",
   "execution_count": null,
   "id": "4b4b38c8",
   "metadata": {},
   "outputs": [],
   "source": []
  }
 ],
 "metadata": {
  "kernelspec": {
   "display_name": "Python 3 (ipykernel)",
   "language": "python",
   "name": "python3"
  },
  "language_info": {
   "codemirror_mode": {
    "name": "ipython",
    "version": 3
   },
   "file_extension": ".py",
   "mimetype": "text/x-python",
   "name": "python",
   "nbconvert_exporter": "python",
   "pygments_lexer": "ipython3",
   "version": "3.9.7"
  }
 },
 "nbformat": 4,
 "nbformat_minor": 5
}
